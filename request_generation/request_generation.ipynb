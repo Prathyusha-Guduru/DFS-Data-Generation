{
 "cells": [
  {
   "cell_type": "code",
   "execution_count": 2,
   "metadata": {},
   "outputs": [],
   "source": [
    "import random \n",
    "import numpy as np\n",
    "import pandas as pd"
   ]
  },
  {
   "cell_type": "code",
   "execution_count": 66,
   "metadata": {},
   "outputs": [],
   "source": [
    "r = ['R1','R2','R3','R4','R5','R6','R7','R8','R9','R10']\n",
    "d = ['D1','D2','D3','D4','D5','D6','D7','D8','D9','D10']\n",
    "proces = ['r','w']"
   ]
  },
  {
   "cell_type": "code",
   "execution_count": 187,
   "metadata": {},
   "outputs": [],
   "source": [
    "f = open('request_log.txt','w')\n",
    "for i in range(0,100000):\n",
    "\tf.write(f\"{random.choices(r,weights=[1,2,1,3,5,1,6,2,4,1],k=1)[-1]}\\t{random.choices(d,weights=[1,2,1,3,5,1,6,2,4,1],k=1)[-1]}\\tF{random.choices(range(0,100000))[-1]}\\tD{random.choices(range(0,10000))[-1]}\\t{random.choices(proces,weights=[80,20],k=1)[-1]}\\n\")\n",
    "f.close()"
   ]
  }
 ],
 "metadata": {
  "interpreter": {
   "hash": "0ba1f6258c9fa5fb0c231fed128883c8b7e548edbadd4b1a8a40937ca4990807"
  },
  "kernelspec": {
   "display_name": "Python 3.8.12 ('ds')",
   "language": "python",
   "name": "python3"
  },
  "language_info": {
   "codemirror_mode": {
    "name": "ipython",
    "version": 3
   },
   "file_extension": ".py",
   "mimetype": "text/x-python",
   "name": "python",
   "nbconvert_exporter": "python",
   "pygments_lexer": "ipython3",
   "version": "3.8.12"
  },
  "orig_nbformat": 4
 },
 "nbformat": 4,
 "nbformat_minor": 2
}
