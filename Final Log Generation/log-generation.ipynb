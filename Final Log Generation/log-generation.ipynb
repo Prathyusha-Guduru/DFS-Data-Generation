{
 "cells": [
  {
   "cell_type": "code",
   "execution_count": 2,
   "metadata": {},
   "outputs": [],
   "source": [
    "import random\n",
    "import re\n",
    "import string\n",
    "from collections import defaultdict"
   ]
  },
  {
   "cell_type": "code",
   "execution_count": 3,
   "metadata": {},
   "outputs": [],
   "source": [
    "output = open('1output.txt')\n",
    "re_rd = r'''R[0-9]{1,4}D[0-9]{1,4}'''\n",
    "count = 0\n",
    "output = output.read().splitlines()"
   ]
  },
  {
   "cell_type": "code",
   "execution_count": 4,
   "metadata": {},
   "outputs": [
    {
     "name": "stdout",
     "output_type": "stream",
     "text": [
      "100\n"
     ]
    }
   ],
   "source": [
    "log_string = []\n",
    "# f= open(\"min_output.txt\",\"w\")\n",
    "rd_lines = []\n",
    "for i,lines in enumerate(output):\n",
    "\t\n",
    "\t\tif(re.search(re_rd,lines) != None) :\n",
    "\t\t\t# f.write(f\"{re.match(re_rd, lines).group(0)} {output[i+(random.randint(0,10))]} {output[i+(random.randint(20,40))]} {output[i+(random.randint(50,80))]} {output[i+(random.randint(80,100))]} {output[i+(random.randint(40,50))]}\\n\")\n",
    "\t\t\t# log_string.append(f\"{re.match(re_rd, lines).group(0)} {output[i+(random.randint(0,10))]} {output[i+(random.randint(20,40))]} {output[i+(random.randint(50,80))]} {output[i+(random.randint(80,100))]} {output[i+(random.randint(40,50))]}\\n\")\n",
    "\t\t\trd_lines.append(i)\n",
    "\n",
    "# f.close()\n",
    "\n",
    "print(len(rd_lines))"
   ]
  },
  {
   "cell_type": "code",
   "execution_count": 5,
   "metadata": {},
   "outputs": [],
   "source": [
    "rd_values = []\n",
    "for i in range(0,100):\n",
    "\trd_values.append(output[rd_lines[i]].split(\"\\t\")[0])"
   ]
  },
  {
   "cell_type": "code",
   "execution_count": 6,
   "metadata": {},
   "outputs": [
    {
     "name": "stdout",
     "output_type": "stream",
     "text": [
      "['R1D1', 'R1D2', 'R1D3', 'R1D4', 'R1D5', 'R1D6', 'R1D7', 'R1D8', 'R1D9', 'R1D10', 'R2D1', 'R2D2', 'R2D3', 'R2D4', 'R2D5', 'R2D6', 'R2D7', 'R2D8', 'R2D9', 'R2D10', 'R3D1', 'R3D2', 'R3D3', 'R3D4', 'R3D5', 'R3D6', 'R3D7', 'R3D8', 'R3D9', 'R3D10', 'R4D1', 'R4D2', 'R4D3', 'R4D4', 'R4D5', 'R4D6', 'R4D7', 'R4D8', 'R4D9', 'R4D10', 'R5D1', 'R5D2', 'R5D3', 'R5D4', 'R5D5', 'R5D6', 'R5D7', 'R5D8', 'R5D9', 'R5D10', 'R6D1', 'R6D2', 'R6D3', 'R6D4', 'R6D5', 'R6D6', 'R6D7', 'R6D8', 'R6D9', 'R6D10', 'R7D1', 'R7D2', 'R7D3', 'R7D4', 'R7D5', 'R7D6', 'R7D7', 'R7D8', 'R7D9', 'R7D10', 'R8D1', 'R8D2', 'R8D3', 'R8D4', 'R8D5', 'R8D6', 'R8D7', 'R8D8', 'R8D9', 'R8D10', 'R9D1', 'R9D2', 'R9D3', 'R9D4', 'R9D5', 'R9D6', 'R9D7', 'R9D8', 'R9D9', 'R9D10', 'R10D1', 'R10D2', 'R10D3', 'R10D4', 'R10D5', 'R10D6', 'R10D7', 'R10D8', 'R10D9', 'R10D10']\n",
      "[0, 2941, 5925, 8773, 11732, 14823, 17780, 20672, 23801, 26751, 28749, 31641, 34571, 37506, 40494, 43483, 46444, 49429, 52431, 55409, 57295, 60302, 63226, 66080, 69042, 72022, 74887, 77906, 80814, 83776, 85798, 88704, 91648, 94542, 97527, 100503, 103489, 106435, 109359, 112368, 114351, 117353, 120423, 123394, 126378, 129363, 132288, 135211, 138191, 141178, 143197, 146203, 149152, 152023, 154916, 157808, 160717, 163601, 166531, 169449, 171382, 174378, 177375, 180326, 183363, 186259, 189325, 192257, 195236, 198250, 200148, 203099, 206070, 208995, 211922, 214934, 217932, 220884, 223903, 226890, 228937, 231896, 234924, 237845, 240774, 243736, 246709, 249654, 252657, 255591, 257586, 258665, 259823, 260897, 261957, 263088, 264210, 265269, 266349, 267395]\n"
     ]
    }
   ],
   "source": [
    "print(rd_values)\n",
    "print(rd_lines)"
   ]
  },
  {
   "cell_type": "code",
   "execution_count": 7,
   "metadata": {},
   "outputs": [
    {
     "name": "stdout",
     "output_type": "stream",
     "text": [
      "[0, 2941, 5925, 8773, 11732, 14823, 17780, 20672, 23801, 26751]\n",
      "R1\n",
      "[28749, 31641, 34571, 37506, 40494, 43483, 46444, 49429, 52431, 55409]\n",
      "R2\n",
      "[57295, 60302, 63226, 66080, 69042, 72022, 74887, 77906, 80814, 83776]\n",
      "R3\n",
      "[85798, 88704, 91648, 94542, 97527, 100503, 103489, 106435, 109359, 112368]\n",
      "R4\n",
      "[114351, 117353, 120423, 123394, 126378, 129363, 132288, 135211, 138191, 141178]\n",
      "R5\n",
      "[143197, 146203, 149152, 152023, 154916, 157808, 160717, 163601, 166531, 169449]\n",
      "R6\n",
      "[171382, 174378, 177375, 180326, 183363, 186259, 189325, 192257, 195236, 198250]\n",
      "R7\n",
      "[200148, 203099, 206070, 208995, 211922, 214934, 217932, 220884, 223903, 226890]\n",
      "R8\n",
      "[228937, 231896, 234924, 237845, 240774, 243736, 246709, 249654, 252657, 255591]\n",
      "R9\n",
      "[257586, 258665, 259823, 260897, 261957, 263088, 264210, 265269, 266349, 267395]\n",
      "R10\n"
     ]
    }
   ],
   "source": [
    "rd_dict = {}\n",
    "for i in range(0,10):\n",
    "\tprint(rd_lines[i*10:(i+1)*10])\n",
    "\tprint(str(rd_values[i*10][:-2]))\n",
    "\trd_dict[str(rd_values[i*10][:-2])] = rd_lines[i*10:(i+1)*10]\n",
    "\t# rd_dict[str(rd_values[i*10][:-1])] = rd_lines[i*10:(i+1)*10]\n",
    "\t# rd_dict[rd_values[i*10][:2]] = rd_lines[i*10:(i+1)*10]\n",
    "\t# print(rd_values[i*10])\n",
    "\t\n"
   ]
  },
  {
   "cell_type": "code",
   "execution_count": 8,
   "metadata": {},
   "outputs": [
    {
     "name": "stdout",
     "output_type": "stream",
     "text": [
      "{'R1': [0, 2941, 5925, 8773, 11732, 14823, 17780, 20672, 23801, 26751], 'R2': [28749, 31641, 34571, 37506, 40494, 43483, 46444, 49429, 52431, 55409], 'R3': [57295, 60302, 63226, 66080, 69042, 72022, 74887, 77906, 80814, 83776], 'R4': [85798, 88704, 91648, 94542, 97527, 100503, 103489, 106435, 109359, 112368], 'R5': [114351, 117353, 120423, 123394, 126378, 129363, 132288, 135211, 138191, 141178], 'R6': [143197, 146203, 149152, 152023, 154916, 157808, 160717, 163601, 166531, 169449], 'R7': [171382, 174378, 177375, 180326, 183363, 186259, 189325, 192257, 195236, 198250], 'R8': [200148, 203099, 206070, 208995, 211922, 214934, 217932, 220884, 223903, 226890], 'R9': [228937, 231896, 234924, 237845, 240774, 243736, 246709, 249654, 252657, 255591], 'R10': [257586, 258665, 259823, 260897, 261957, 263088, 264210, 265269, 266349, 267395]}\n"
     ]
    }
   ],
   "source": [
    "print(rd_dict)"
   ]
  },
  {
   "cell_type": "code",
   "execution_count": 9,
   "metadata": {},
   "outputs": [],
   "source": [
    "r = ['R1','R2','R3','R4','R5','R6','R7','R8','R9','R10']\n",
    "d = ['D1','D2','D3','D4','D5','D6','D7','D8','D9','D10']\n",
    "\n"
   ]
  },
  {
   "cell_type": "code",
   "execution_count": 11,
   "metadata": {},
   "outputs": [],
   "source": [
    "f = open(\"log.txt\",\"w\")\n",
    "for i in range(0,100000):\n",
    "\trandom_r = random.choices(r,k=1)[-1]\n",
    "\tif random_r in rd_dict.keys():\n",
    "\t\trandom_rd = random.choices(rd_dict[random_r],k=1)[-1]\n",
    "\t\tf.write(f\"{output[random_rd]}{output[random_rd+random.randint(0,100)]}{output[random_rd+random.randint(200,400)]}{output[random_rd+random.randint(400,700)]}{output[random_rd+random.randint(700,900)]}{output[random_rd+random.randint(0,100)]}\\n\")\n",
    "f.close()\n",
    "\n"
   ]
  },
  {
   "cell_type": "code",
   "execution_count": null,
   "metadata": {},
   "outputs": [],
   "source": []
  }
 ],
 "metadata": {
  "interpreter": {
   "hash": "0ba1f6258c9fa5fb0c231fed128883c8b7e548edbadd4b1a8a40937ca4990807"
  },
  "kernelspec": {
   "display_name": "Python 3",
   "language": "python",
   "name": "python3"
  },
  "language_info": {
   "codemirror_mode": {
    "name": "ipython",
    "version": 3
   },
   "file_extension": ".py",
   "mimetype": "text/x-python",
   "name": "python",
   "nbconvert_exporter": "python",
   "pygments_lexer": "ipython3",
   "version": "3.8.12"
  }
 },
 "nbformat": 4,
 "nbformat_minor": 2
}
